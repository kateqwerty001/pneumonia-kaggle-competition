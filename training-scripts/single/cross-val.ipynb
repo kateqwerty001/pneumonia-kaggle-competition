{
 "cells": [
  {
   "cell_type": "markdown",
   "id": "60279666",
   "metadata": {
    "papermill": {
     "duration": 0.001747,
     "end_time": "2025-03-19T13:44:56.168839",
     "exception": false,
     "start_time": "2025-03-19T13:44:56.167092",
     "status": "completed"
    },
    "tags": []
   },
   "source": [
    "1st\n"
   ]
  },
  {
   "cell_type": "code",
   "execution_count": 1,
   "id": "c51fb15e",
   "metadata": {
    "_cell_guid": "b1076dfc-b9ad-4769-8c92-a6c4dae69d19",
    "_uuid": "8f2839f25d086af736a60e9eeb907d3b93b6e0e5",
    "execution": {
     "iopub.execute_input": "2025-03-19T13:44:56.172832Z",
     "iopub.status.busy": "2025-03-19T13:44:56.172554Z",
     "iopub.status.idle": "2025-03-19T18:37:06.233396Z",
     "shell.execute_reply": "2025-03-19T18:37:06.232312Z"
    },
    "papermill": {
     "duration": 17530.068258,
     "end_time": "2025-03-19T18:37:06.238634",
     "exception": false,
     "start_time": "2025-03-19T13:44:56.170376",
     "status": "completed"
    },
    "tags": []
   },
   "outputs": [
    {
     "name": "stdout",
     "output_type": "stream",
     "text": [
      "Using device: cuda\n",
      "\n",
      " Fold 1/5\n"
     ]
    },
    {
     "name": "stderr",
     "output_type": "stream",
     "text": [
      "/usr/local/lib/python3.10/dist-packages/timm/models/_factory.py:117: UserWarning: Mapping deprecated model name xception to current legacy_xception.\n",
      "  model = create_fn(\n",
      "Downloading: \"https://github.com/rwightman/pytorch-image-models/releases/download/v0.1-cadene/xception-43020ad28.pth\" to /root/.cache/torch/hub/checkpoints/xception-43020ad28.pth\n"
     ]
    },
    {
     "name": "stdout",
     "output_type": "stream",
     "text": [
      "Epoch 1/10 - Train Loss: 0.1214 - Train AUC: 0.9882 - Val Loss: 0.1122 - Val AUC: 0.9949\n",
      "Epoch 2/10 - Train Loss: 0.0733 - Train AUC: 0.9954 - Val Loss: 0.0611 - Val AUC: 0.9969\n",
      "Epoch 3/10 - Train Loss: 0.0526 - Train AUC: 0.9976 - Val Loss: 0.0661 - Val AUC: 0.9972\n",
      "Epoch 4/10 - Train Loss: 0.0148 - Train AUC: 0.9999 - Val Loss: 0.0342 - Val AUC: 0.9992\n",
      "Epoch 5/10 - Train Loss: 0.0051 - Train AUC: 1.0000 - Val Loss: 0.0335 - Val AUC: 0.9992\n",
      "Epoch 6/10 - Train Loss: 0.0022 - Train AUC: 1.0000 - Val Loss: 0.0305 - Val AUC: 0.9994\n",
      "Epoch 7/10 - Train Loss: 0.0012 - Train AUC: 1.0000 - Val Loss: 0.0337 - Val AUC: 0.9994\n",
      "Epoch 8/10 - Train Loss: 0.0009 - Train AUC: 1.0000 - Val Loss: 0.0309 - Val AUC: 0.9994\n",
      "Epoch 9/10 - Train Loss: 0.0008 - Train AUC: 1.0000 - Val Loss: 0.0335 - Val AUC: 0.9994\n",
      "Epoch 10/10 - Train Loss: 0.0006 - Train AUC: 1.0000 - Val Loss: 0.0314 - Val AUC: 0.9994\n",
      "\n",
      " Fold 2/5\n"
     ]
    },
    {
     "name": "stderr",
     "output_type": "stream",
     "text": [
      "/usr/local/lib/python3.10/dist-packages/timm/models/_factory.py:117: UserWarning: Mapping deprecated model name xception to current legacy_xception.\n",
      "  model = create_fn(\n"
     ]
    },
    {
     "name": "stdout",
     "output_type": "stream",
     "text": [
      "Epoch 1/10 - Train Loss: 0.1176 - Train AUC: 0.9887 - Val Loss: 0.1035 - Val AUC: 0.9947\n",
      "Epoch 2/10 - Train Loss: 0.0729 - Train AUC: 0.9955 - Val Loss: 0.0837 - Val AUC: 0.9964\n",
      "Epoch 3/10 - Train Loss: 0.0559 - Train AUC: 0.9973 - Val Loss: 0.0551 - Val AUC: 0.9976\n",
      "Epoch 4/10 - Train Loss: 0.0188 - Train AUC: 0.9997 - Val Loss: 0.0312 - Val AUC: 0.9992\n",
      "Epoch 5/10 - Train Loss: 0.0070 - Train AUC: 1.0000 - Val Loss: 0.0325 - Val AUC: 0.9993\n",
      "Epoch 6/10 - Train Loss: 0.0046 - Train AUC: 1.0000 - Val Loss: 0.0351 - Val AUC: 0.9993\n",
      "Epoch 7/10 - Train Loss: 0.0025 - Train AUC: 1.0000 - Val Loss: 0.0337 - Val AUC: 0.9994\n",
      "Epoch 8/10 - Train Loss: 0.0020 - Train AUC: 1.0000 - Val Loss: 0.0310 - Val AUC: 0.9994\n",
      "Epoch 9/10 - Train Loss: 0.0021 - Train AUC: 1.0000 - Val Loss: 0.0314 - Val AUC: 0.9995\n",
      "Epoch 10/10 - Train Loss: 0.0016 - Train AUC: 1.0000 - Val Loss: 0.0314 - Val AUC: 0.9995\n",
      "\n",
      " Fold 3/5\n"
     ]
    },
    {
     "name": "stderr",
     "output_type": "stream",
     "text": [
      "/usr/local/lib/python3.10/dist-packages/timm/models/_factory.py:117: UserWarning: Mapping deprecated model name xception to current legacy_xception.\n",
      "  model = create_fn(\n"
     ]
    },
    {
     "name": "stdout",
     "output_type": "stream",
     "text": [
      "Epoch 1/10 - Train Loss: 0.1202 - Train AUC: 0.9881 - Val Loss: 0.2149 - Val AUC: 0.9816\n",
      "Epoch 2/10 - Train Loss: 0.0673 - Train AUC: 0.9961 - Val Loss: 0.1010 - Val AUC: 0.9957\n",
      "Epoch 3/10 - Train Loss: 0.0528 - Train AUC: 0.9976 - Val Loss: 0.0677 - Val AUC: 0.9978\n",
      "Epoch 4/10 - Train Loss: 0.0111 - Train AUC: 0.9999 - Val Loss: 0.0293 - Val AUC: 0.9994\n",
      "Epoch 5/10 - Train Loss: 0.0037 - Train AUC: 1.0000 - Val Loss: 0.0319 - Val AUC: 0.9993\n",
      "Epoch 6/10 - Train Loss: 0.0037 - Train AUC: 0.9999 - Val Loss: 0.0337 - Val AUC: 0.9994\n",
      "Epoch 7/10 - Train Loss: 0.0015 - Train AUC: 1.0000 - Val Loss: 0.0272 - Val AUC: 0.9993\n",
      "Epoch 8/10 - Train Loss: 0.0013 - Train AUC: 1.0000 - Val Loss: 0.0283 - Val AUC: 0.9994\n",
      "Epoch 9/10 - Train Loss: 0.0008 - Train AUC: 1.0000 - Val Loss: 0.0284 - Val AUC: 0.9994\n",
      "Epoch 10/10 - Train Loss: 0.0007 - Train AUC: 1.0000 - Val Loss: 0.0274 - Val AUC: 0.9994\n",
      "\n",
      " Fold 4/5\n"
     ]
    },
    {
     "name": "stderr",
     "output_type": "stream",
     "text": [
      "/usr/local/lib/python3.10/dist-packages/timm/models/_factory.py:117: UserWarning: Mapping deprecated model name xception to current legacy_xception.\n",
      "  model = create_fn(\n"
     ]
    },
    {
     "name": "stdout",
     "output_type": "stream",
     "text": [
      "Epoch 1/10 - Train Loss: 0.1214 - Train AUC: 0.9880 - Val Loss: 0.0798 - Val AUC: 0.9960\n",
      "Epoch 2/10 - Train Loss: 0.0729 - Train AUC: 0.9956 - Val Loss: 0.0613 - Val AUC: 0.9979\n",
      "Epoch 3/10 - Train Loss: 0.0518 - Train AUC: 0.9976 - Val Loss: 0.0552 - Val AUC: 0.9979\n",
      "Epoch 4/10 - Train Loss: 0.0148 - Train AUC: 0.9998 - Val Loss: 0.0332 - Val AUC: 0.9990\n",
      "Epoch 5/10 - Train Loss: 0.0053 - Train AUC: 1.0000 - Val Loss: 0.0324 - Val AUC: 0.9992\n",
      "Epoch 6/10 - Train Loss: 0.0023 - Train AUC: 1.0000 - Val Loss: 0.0312 - Val AUC: 0.9992\n",
      "Epoch 7/10 - Train Loss: 0.0012 - Train AUC: 1.0000 - Val Loss: 0.0298 - Val AUC: 0.9993\n",
      "Epoch 8/10 - Train Loss: 0.0012 - Train AUC: 1.0000 - Val Loss: 0.0288 - Val AUC: 0.9993\n",
      "Epoch 9/10 - Train Loss: 0.0009 - Train AUC: 1.0000 - Val Loss: 0.0291 - Val AUC: 0.9993\n",
      "Epoch 10/10 - Train Loss: 0.0006 - Train AUC: 1.0000 - Val Loss: 0.0291 - Val AUC: 0.9993\n",
      "\n",
      " Fold 5/5\n"
     ]
    },
    {
     "name": "stderr",
     "output_type": "stream",
     "text": [
      "/usr/local/lib/python3.10/dist-packages/timm/models/_factory.py:117: UserWarning: Mapping deprecated model name xception to current legacy_xception.\n",
      "  model = create_fn(\n"
     ]
    },
    {
     "name": "stdout",
     "output_type": "stream",
     "text": [
      "Epoch 1/10 - Train Loss: 0.1210 - Train AUC: 0.9879 - Val Loss: 0.0650 - Val AUC: 0.9967\n",
      "Epoch 2/10 - Train Loss: 0.0770 - Train AUC: 0.9951 - Val Loss: 0.1122 - Val AUC: 0.9967\n",
      "Epoch 3/10 - Train Loss: 0.0555 - Train AUC: 0.9973 - Val Loss: 0.0392 - Val AUC: 0.9988\n",
      "Epoch 4/10 - Train Loss: 0.0147 - Train AUC: 0.9999 - Val Loss: 0.0246 - Val AUC: 0.9995\n",
      "Epoch 5/10 - Train Loss: 0.0051 - Train AUC: 1.0000 - Val Loss: 0.0237 - Val AUC: 0.9996\n",
      "Epoch 6/10 - Train Loss: 0.0026 - Train AUC: 1.0000 - Val Loss: 0.0233 - Val AUC: 0.9996\n",
      "Epoch 7/10 - Train Loss: 0.0010 - Train AUC: 1.0000 - Val Loss: 0.0237 - Val AUC: 0.9997\n",
      "Epoch 8/10 - Train Loss: 0.0008 - Train AUC: 1.0000 - Val Loss: 0.0230 - Val AUC: 0.9996\n",
      "Epoch 9/10 - Train Loss: 0.0008 - Train AUC: 1.0000 - Val Loss: 0.0237 - Val AUC: 0.9996\n",
      "Epoch 10/10 - Train Loss: 0.0006 - Train AUC: 1.0000 - Val Loss: 0.0234 - Val AUC: 0.9997\n",
      "\n",
      " Cross-validation completed\n",
      "Average AUC: 0.0000 ± 0.0000\n"
     ]
    }
   ],
   "source": [
    "import os\n",
    "import torch\n",
    "import torch.nn as nn\n",
    "import torch.optim as optim\n",
    "import torchvision.transforms as transforms\n",
    "import torchvision.datasets as datasets\n",
    "from torch.utils.data import DataLoader, Subset\n",
    "import timm\n",
    "from sklearn.model_selection import StratifiedKFold\n",
    "from sklearn.metrics import roc_auc_score\n",
    "import numpy as np\n",
    "\n",
    "# ==== 1. SETUP GPU ====\n",
    "device = torch.device(\"cuda\" if torch.cuda.is_available() else \"cpu\")\n",
    "print(f\"Using device: {device}\")\n",
    "\n",
    "# ==== 2. PARAMETERS ====\n",
    "data_dir = \"/kaggle/input/augmented-pneumonia-dataset/augmented/train\"\n",
    "batch_size = 32\n",
    "epochs = 10\n",
    "learning_rate = 1e-3\n",
    "num_folds = 5  # Number of folds for cross-validation\n",
    "\n",
    "# ==== 3. DATA TRANSFORMATIONS ====\n",
    "transform = transforms.Compose([\n",
    "    transforms.Resize((299, 299)),\n",
    "    transforms.ToTensor(),\n",
    "    transforms.Normalize([0.485, 0.456, 0.406], [0.229, 0.224, 0.225])\n",
    "])\n",
    "\n",
    "# ==== 4. LOAD DATASET ====\n",
    "dataset = datasets.ImageFolder(root=data_dir, transform=transform)\n",
    "targets = np.array(dataset.targets)  # Get labels for stratified splitting\n",
    "skf = StratifiedKFold(n_splits=num_folds, shuffle=True, random_state=42)  # Stratified K-Fold\n",
    "\n",
    "# ==== 5. CROSS-VALIDATION ====\n",
    "best_auc = 0.0\n",
    "fold_results = []\n",
    "\n",
    "for fold, (train_idx, val_idx) in enumerate(skf.split(np.zeros(len(targets)), targets)):\n",
    "    print(f\"\\n Fold {fold + 1}/{num_folds}\")\n",
    "\n",
    "    # Subset dataset for current fold\n",
    "    train_subset = Subset(dataset, train_idx)\n",
    "    val_subset = Subset(dataset, val_idx)\n",
    "\n",
    "    # DataLoaders\n",
    "    train_loader = DataLoader(train_subset, batch_size=batch_size, shuffle=True, num_workers=2, pin_memory=True)\n",
    "    val_loader = DataLoader(val_subset, batch_size=batch_size, shuffle=False, num_workers=2, pin_memory=True)\n",
    "\n",
    "    # ==== 6. MODEL SETUP ====\n",
    "    model = timm.create_model('xception', pretrained=True)\n",
    "    model.fc = nn.Linear(model.fc.in_features, 1)\n",
    "    model = model.to(device)\n",
    "\n",
    "    criterion = nn.BCEWithLogitsLoss()\n",
    "    optimizer = optim.AdamW(model.parameters(), lr=learning_rate)\n",
    "    scheduler = optim.lr_scheduler.StepLR(optimizer, step_size=3, gamma=0.1)\n",
    "\n",
    "    # ==== 7. TRAINING ====\n",
    "    for epoch in range(epochs):\n",
    "        model.train()\n",
    "        train_loss = 0.0\n",
    "        all_preds, all_labels = [], []\n",
    "\n",
    "        for images, labels in train_loader:\n",
    "            images, labels = images.to(device), labels.to(device).float().unsqueeze(1)\n",
    "            optimizer.zero_grad()\n",
    "            outputs = model(images)\n",
    "            loss = criterion(outputs, labels)\n",
    "            loss.backward()\n",
    "            optimizer.step()\n",
    "\n",
    "            train_loss += loss.item()\n",
    "            all_preds.extend(torch.sigmoid(outputs).cpu().detach().numpy())\n",
    "            all_labels.extend(labels.cpu().detach().numpy())\n",
    "\n",
    "        train_auc = roc_auc_score(all_labels, all_preds)\n",
    "\n",
    "        # ==== 8. VALIDATION ====\n",
    "        model.eval()\n",
    "        val_loss = 0.0\n",
    "        val_preds, val_labels = [], []\n",
    "\n",
    "        with torch.no_grad():\n",
    "            for images, labels in val_loader:\n",
    "                images, labels = images.to(device), labels.to(device).float().unsqueeze(1)\n",
    "                outputs = model(images)\n",
    "                loss = criterion(outputs, labels)\n",
    "                val_loss += loss.item()\n",
    "                val_preds.extend(torch.sigmoid(outputs).cpu().detach().numpy())\n",
    "                val_labels.extend(labels.cpu().detach().numpy())\n",
    "\n",
    "        val_auc = roc_auc_score(val_labels, val_preds)\n",
    "        print(f\"Epoch {epoch+1}/{epochs} - Train Loss: {train_loss/len(train_loader):.4f} - Train AUC: {train_auc:.4f} - Val Loss: {val_loss/len(val_loader):.4f} - Val AUC: {val_auc:.4f}\")\n",
    "        \n",
    "        scheduler.step()\n",
    "        \n",
    "    fold_results.append(best_auc)\n",
    "\n",
    "# ==== 9. FINAL CROSS-VALIDATION RESULTS ====\n",
    "print(\"\\n Cross-validation completed\")\n",
    "print(f\"Average AUC: {np.mean(fold_results):.4f} ± {np.std(fold_results):.4f}\")\n"
   ]
  },
  {
   "cell_type": "markdown",
   "id": "8012c4bf",
   "metadata": {
    "papermill": {
     "duration": 0.003719,
     "end_time": "2025-03-19T18:37:06.246492",
     "exception": false,
     "start_time": "2025-03-19T18:37:06.242773",
     "status": "completed"
    },
    "tags": []
   },
   "source": [
    "<a href=\"/kaggle/working/xception-imagenet-aug-6.csv\"> Download File </a>"
   ]
  }
 ],
 "metadata": {
  "kaggle": {
   "accelerator": "gpu",
   "dataSources": [
    {
     "datasetId": 6799205,
     "sourceId": 10934126,
     "sourceType": "datasetVersion"
    },
    {
     "datasetId": 6870041,
     "sourceId": 11030866,
     "sourceType": "datasetVersion"
    }
   ],
   "dockerImageVersionId": 30919,
   "isGpuEnabled": true,
   "isInternetEnabled": true,
   "language": "python",
   "sourceType": "notebook"
  },
  "kernelspec": {
   "display_name": "Python 3",
   "language": "python",
   "name": "python3"
  },
  "language_info": {
   "codemirror_mode": {
    "name": "ipython",
    "version": 3
   },
   "file_extension": ".py",
   "mimetype": "text/x-python",
   "name": "python",
   "nbconvert_exporter": "python",
   "pygments_lexer": "ipython3",
   "version": "3.10.12"
  },
  "papermill": {
   "default_parameters": {},
   "duration": 17535.595799,
   "end_time": "2025-03-19T18:37:09.213320",
   "environment_variables": {},
   "exception": null,
   "input_path": "__notebook__.ipynb",
   "output_path": "__notebook__.ipynb",
   "parameters": {},
   "start_time": "2025-03-19T13:44:53.617521",
   "version": "2.6.0"
  }
 },
 "nbformat": 4,
 "nbformat_minor": 5
}
