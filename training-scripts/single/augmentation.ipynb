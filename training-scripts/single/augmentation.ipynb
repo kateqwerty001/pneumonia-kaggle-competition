{
 "cells": [
  {
   "cell_type": "code",
   "execution_count": 6,
   "metadata": {},
   "outputs": [
    {
     "name": "stderr",
     "output_type": "stream",
     "text": [
      "Processing PNEUMONIA: 100%|██████████| 3875/3875 [00:36<00:00, 106.85it/s]\n",
      "Processing NORMAL: 100%|██████████| 1341/1341 [00:23<00:00, 55.90it/s]"
     ]
    },
    {
     "name": "stdout",
     "output_type": "stream",
     "text": [
      "Augmented images saved successfully!\n"
     ]
    },
    {
     "name": "stderr",
     "output_type": "stream",
     "text": [
      "\n"
     ]
    }
   ],
   "source": [
    "import os\n",
    "from PIL import Image\n",
    "from torchvision import transforms\n",
    "from tqdm import tqdm  # Progress bar\n",
    "import torch\n",
    "\n",
    "# Original and Augmented Data Paths\n",
    "original_data_dir = \"pneumonia/train\"\n",
    "augmented_data_dir = \"pneumonia-augmentated/train\"\n",
    "\n",
    "\n",
    "# Copy class-wise folder structure\n",
    "for class_name in os.listdir(original_data_dir):\n",
    "    class_path = os.path.join(original_data_dir, class_name)\n",
    "    if os.path.isdir(class_path):  # Only process directories\n",
    "        os.makedirs(os.path.join(augmented_data_dir, class_name), exist_ok=True)\n",
    "\n",
    "# Define Augmentation Transformations\n",
    "transform = transforms.Compose([\n",
    "    transforms.Resize((299, 299)),\n",
    "    transforms.RandomApply([transforms.RandomRotation(degrees=10)], p=0.5),\n",
    "    transforms.RandomApply([transforms.GaussianBlur(kernel_size=3, sigma=(0.1, 1.0))], p=0.5),\n",
    "    transforms.RandomApply([transforms.ColorJitter(brightness=0.2, contrast=0.2, saturation=0.2, hue=0)], p=0.5),\n",
    "    transforms.ToTensor(),\n",
    "    transforms.RandomApply([transforms.Lambda(lambda x: x + 0.05 * torch.randn_like(x))], p=0.5),\n",
    "])\n",
    "\n",
    "# Process Each Image and Save\n",
    "for class_name in os.listdir(original_data_dir):\n",
    "    class_path = os.path.join(original_data_dir, class_name)\n",
    "    augmented_class_path = os.path.join(augmented_data_dir, class_name)\n",
    "    \n",
    "    if os.path.isdir(class_path):  # Ensure it's a directory\n",
    "        for img_name in tqdm(os.listdir(class_path), desc=f\"Processing {class_name}\"):\n",
    "            img_path = os.path.join(class_path, img_name)\n",
    "            image = Image.open(img_path).convert(\"RGB\")  # Open image\n",
    "            \n",
    "            augmented_image = transform(image)  # Apply transformations\n",
    "            augmented_image = transforms.ToPILImage()(augmented_image)  # Convert back to PIL\n",
    "            \n",
    "            # Save the new image\n",
    "            new_img_name = f\"aug_{img_name}\"\n",
    "            augmented_image.save(os.path.join(augmented_class_path, new_img_name))\n",
    "\n",
    "print(\"Augmented images saved successfully!\")\n"
   ]
  },
  {
   "cell_type": "code",
   "execution_count": null,
   "metadata": {},
   "outputs": [],
   "source": []
  }
 ],
 "metadata": {
  "kernelspec": {
   "display_name": "pneumonia2",
   "language": "python",
   "name": "python3"
  },
  "language_info": {
   "codemirror_mode": {
    "name": "ipython",
    "version": 3
   },
   "file_extension": ".py",
   "mimetype": "text/x-python",
   "name": "python",
   "nbconvert_exporter": "python",
   "pygments_lexer": "ipython3",
   "version": "3.10.16"
  }
 },
 "nbformat": 4,
 "nbformat_minor": 2
}
